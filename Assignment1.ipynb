{
 "cells": [
  {
   "cell_type": "code",
   "execution_count": 1,
   "id": "e264185f-1a04-4047-bfcc-ec7204c35a02",
   "metadata": {},
   "outputs": [],
   "source": [
    "# Q1. Create one variable containing following type of data:\n",
    "# (i) string\n",
    "# (ii) list\n",
    "# (iii) float\n",
    "# (iv) tuple\n",
    "#Ans:\n",
    "\n",
    "a = \"soumen\", [1,2,3], 56.23, (4,5,6)"
   ]
  },
  {
   "cell_type": "code",
   "execution_count": 2,
   "id": "31e0a940-bc50-4121-9642-a3dd24ff7d7b",
   "metadata": {},
   "outputs": [
    {
     "name": "stdout",
     "output_type": "stream",
     "text": [
      "<class 'str'>\n",
      "<class 'str'>\n",
      "<class 'list'>\n"
     ]
    },
    {
     "data": {
      "text/plain": [
       "int"
      ]
     },
     "execution_count": 2,
     "metadata": {},
     "output_type": "execute_result"
    }
   ],
   "source": [
    "# Q2. Given are some following variables containing data:\n",
    "# (i) var1 = ' '\n",
    "# (ii) var2 = ‘[ DS , ML , Python]’\n",
    "# (iii) var3 = [ ‘DS’ , ’ML’ , ‘Python’ ]\n",
    "# (iv) var4 = 1.\n",
    "# What will be the data type of the above given variable.\n",
    "#Ans :\n",
    "\n",
    "var1 = ' '\n",
    "print (type (var1))\n",
    "var2 = '[ DS , ML , Python]'\n",
    "print (type (var2))\n",
    "var3 = [ 'DS' , 'ML' , 'Python' ]\n",
    "print (type (var3))\n",
    "var4 = 1\n",
    "type (var4)"
   ]
  },
  {
   "cell_type": "code",
   "execution_count": 3,
   "id": "cb0dca0a-0623-4de6-a060-198bfe01dc84",
   "metadata": {},
   "outputs": [
    {
     "name": "stdout",
     "output_type": "stream",
     "text": [
      "2.5\n",
      "1\n",
      "2\n",
      "25\n"
     ]
    }
   ],
   "source": [
    "# Q3. Explain the use of the following operators using an example:\n",
    "# (i) /\n",
    "# (ii) %\n",
    "# (iii) //\n",
    "# (iv) **\n",
    "#Ans :\n",
    "\n",
    "a = 5 / 2\n",
    "print (a)\n",
    "b = 10 % 3\n",
    "print (b)\n",
    "c = 15 // 7\n",
    "print (c)\n",
    "d = 5 ** 2\n",
    "print (d)"
   ]
  },
  {
   "cell_type": "code",
   "execution_count": 4,
   "id": "2963c05f-54ad-4de5-bdcd-1e8d60d23df6",
   "metadata": {},
   "outputs": [
    {
     "name": "stdout",
     "output_type": "stream",
     "text": [
      "<class 'int'>\n",
      "1\n",
      "<class 'int'>\n",
      "2\n",
      "<class 'str'>\n",
      "soumen\n",
      "<class 'float'>\n",
      "89.36\n",
      "<class 'bool'>\n",
      "True\n",
      "<class 'int'>\n",
      "8\n",
      "<class 'complex'>\n",
      "(5+2j)\n",
      "<class 'str'>\n",
      "data science\n",
      "<class 'float'>\n",
      "96.36\n",
      "<class 'int'>\n",
      "78\n"
     ]
    }
   ],
   "source": [
    "# Q4. Create a list of length 10 of your choice containing multiple types of data. Using for loop print the\n",
    "# element and its data type.\n",
    "#Ans :\n",
    "\n",
    "l = [1, 2, \"soumen\", 89.36, True, 8, 5+2j, \"data science\", 96.36, 78]\n",
    "for i in l:\n",
    "    print (type(i))\n",
    "    print (i)  "
   ]
  },
  {
   "cell_type": "code",
   "execution_count": 16,
   "id": "550e117b-4b21-45bd-bc60-a0602bf5f5b0",
   "metadata": {},
   "outputs": [
    {
     "name": "stdin",
     "output_type": "stream",
     "text": [
      "Enter number A:  20\n",
      "Enter number B:  5\n"
     ]
    },
    {
     "name": "stdout",
     "output_type": "stream",
     "text": [
      "0 is purely divisible by 5 and can be divided 4 times.\n"
     ]
    }
   ],
   "source": [
    "# Q5. Using a while loop, verify if the number A is purely divisible by number B and if so then how many\n",
    "#times it can be divisible.\n",
    "#Ans :\n",
    "\n",
    "A = int(input(\"Enter number A: \"))\n",
    "B = int(input(\"Enter number B: \"))\n",
    "count = 0\n",
    "\n",
    "while A >= B:\n",
    "    A = A - B\n",
    "    count += 1\n",
    "\n",
    "if A == 0:\n",
    "    print(f\"{A} is purely divisible by {B} and can be divided {count} times.\")\n",
    "else:\n",
    "    print(f\"{A} is not purely divisible by {B}.\")"
   ]
  },
  {
   "cell_type": "code",
   "execution_count": 6,
   "id": "7090f56c-9f3b-4e0a-b6c1-da7e2d72173d",
   "metadata": {},
   "outputs": [
    {
     "name": "stdout",
     "output_type": "stream",
     "text": [
      "1  is not divisible by 3\n",
      "2  is not divisible by 3\n",
      "3  is divisible by 3\n",
      "4  is not divisible by 3\n",
      "5  is not divisible by 3\n",
      "9  is divisible by 3\n",
      "30  is divisible by 3\n",
      "75  is divisible by 3\n",
      "9  is divisible by 3\n",
      "6  is divisible by 3\n",
      "789  is divisible by 3\n",
      "3  is divisible by 3\n",
      "12  is divisible by 3\n",
      "56  is not divisible by 3\n",
      "37  is not divisible by 3\n",
      "259  is not divisible by 3\n",
      "15  is divisible by 3\n",
      "18  is divisible by 3\n",
      "30  is divisible by 3\n",
      "27  is divisible by 3\n",
      "63  is divisible by 3\n",
      "78  is divisible by 3\n",
      "165  is divisible by 3\n",
      "23  is not divisible by 3\n",
      "73  is not divisible by 3\n"
     ]
    }
   ],
   "source": [
    "# Q6. Create a list containing 25 int type data. Using for loop and if-else condition print if the element is\n",
    "# divisible by 3 or not.\n",
    "#Ans :\n",
    "\n",
    "l = [1,2,3,4,5,9,30,75,9,6,789,3,12,56,37,259,15,18,30,27,63,78,165,23,73]\n",
    "for i in l:\n",
    "    if i % 3 == 0:\n",
    "        print (i, ' is divisible by 3')\n",
    "    else :\n",
    "        print (i, ' is not divisible by 3')   "
   ]
  },
  {
   "cell_type": "code",
   "execution_count": 7,
   "id": "a3ee3ed7-89fc-4d5e-b58f-2daa52ecebfa",
   "metadata": {},
   "outputs": [
    {
     "name": "stdout",
     "output_type": "stream",
     "text": [
      "['data science', 2, 3, 'pwskills', True, (8+3j), 96.36]\n"
     ]
    }
   ],
   "source": [
    "# Q7. What do you understand about mutable and immutable data types? Give examples for both showing\n",
    "# this property.\n",
    "#Ans :\n",
    "\n",
    "# A mutable data type is one that can be modified after its creation. Example - Lists, dictionaries, and sets etc..\n",
    "\n",
    "l1 = [1, 2, 3, \"pwskills\", True, 8+3j, 96.36]\n",
    "\n",
    "l1 [0] = 'data science'\n",
    "print (l1)"
   ]
  },
  {
   "cell_type": "code",
   "execution_count": 9,
   "id": "38bc9c75-7d3e-42c6-ac69-ec6917c5e4b8",
   "metadata": {},
   "outputs": [
    {
     "ename": "TypeError",
     "evalue": "'str' object does not support item assignment",
     "output_type": "error",
     "traceback": [
      "\u001b[0;31m---------------------------------------------------------------------------\u001b[0m",
      "\u001b[0;31mTypeError\u001b[0m                                 Traceback (most recent call last)",
      "Cell \u001b[0;32mIn[9], line 4\u001b[0m\n\u001b[1;32m      1\u001b[0m \u001b[38;5;66;03m# An immutable data type is a type of object whose value cannot be changed after it is created. Example - String, Tuple etc..\u001b[39;00m\n\u001b[1;32m      3\u001b[0m s \u001b[38;5;241m=\u001b[39m \u001b[38;5;124m\"\u001b[39m\u001b[38;5;124msoumen\u001b[39m\u001b[38;5;124m\"\u001b[39m\n\u001b[0;32m----> 4\u001b[0m \u001b[43ms\u001b[49m\u001b[43m \u001b[49m\u001b[43m[\u001b[49m\u001b[38;5;241;43m0\u001b[39;49m\u001b[43m]\u001b[49m \u001b[38;5;241m=\u001b[39m \u001b[38;5;124m'\u001b[39m\u001b[38;5;124my\u001b[39m\u001b[38;5;124m'\u001b[39m\n",
      "\u001b[0;31mTypeError\u001b[0m: 'str' object does not support item assignment"
     ]
    }
   ],
   "source": [
    "# An immutable data type is a type of object whose value cannot be changed after it is created. Example - String, Tuple etc..\n",
    "\n",
    "s = \"soumen\"\n",
    "s [0] = 'y'"
   ]
  }
 ],
 "metadata": {
  "kernelspec": {
   "display_name": "Python 3 (ipykernel)",
   "language": "python",
   "name": "python3"
  },
  "language_info": {
   "codemirror_mode": {
    "name": "ipython",
    "version": 3
   },
   "file_extension": ".py",
   "mimetype": "text/x-python",
   "name": "python",
   "nbconvert_exporter": "python",
   "pygments_lexer": "ipython3",
   "version": "3.10.8"
  }
 },
 "nbformat": 4,
 "nbformat_minor": 5
}
